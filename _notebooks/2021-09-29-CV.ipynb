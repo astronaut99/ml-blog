{
 "cells": [
  {
   "cell_type": "markdown",
   "id": "c915a7f8-7316-406a-aed0-37ee77cd0228",
   "metadata": {},
   "source": [
    "# Let's see what the computer sees"
   ]
  },
  {
   "cell_type": "markdown",
   "id": "2df6ef98-5b2d-4a24-8db2-9e420487a611",
   "metadata": {},
   "source": [
    "*Neurons for Vision*"
   ]
  },
  {
   "cell_type": "markdown",
   "id": "31d6eb89-be5f-489e-8bb5-df4c39d3a985",
   "metadata": {},
   "source": [
    "Here we will be using the Fashion MNIST Dataset for experimentation.\n",
    "Each of our images is a set of 784 values (28 × 28) between 0 and 255. They can be\n",
    "our X. We know that we have 10 different types of images in our dataset, so let’s con‐\n",
    "sider them to be our Y. Now we want to learn what the function looks like where Y is\n",
    "a function of X."
   ]
  },
  {
   "cell_type": "markdown",
   "id": "37258fd8-e735-430f-84f3-ee0695567782",
   "metadata": {},
   "source": [
    "*Exploring the Data*"
   ]
  },
  {
   "cell_type": "code",
   "execution_count": 14,
   "id": "650bfec5-022c-43b6-814b-88f2ad2fb547",
   "metadata": {},
   "outputs": [],
   "source": [
    "import tensorflow as tf\n",
    "import matplotlib.pyplot as plt\n",
    "data = tf.keras.datasets.fashion_mnist"
   ]
  },
  {
   "cell_type": "code",
   "execution_count": 3,
   "id": "131ab97a-e57b-4a30-b005-f1ad463f8646",
   "metadata": {},
   "outputs": [
    {
     "name": "stdout",
     "output_type": "stream",
     "text": [
      "Downloading data from https://storage.googleapis.com/tensorflow/tf-keras-datasets/train-labels-idx1-ubyte.gz\n",
      "32768/29515 [=================================] - 0s 1us/step\n",
      "Downloading data from https://storage.googleapis.com/tensorflow/tf-keras-datasets/train-images-idx3-ubyte.gz\n",
      "26427392/26421880 [==============================] - 3s 0us/step\n",
      "Downloading data from https://storage.googleapis.com/tensorflow/tf-keras-datasets/t10k-labels-idx1-ubyte.gz\n",
      "8192/5148 [===============================================] - 0s 0s/step\n",
      "Downloading data from https://storage.googleapis.com/tensorflow/tf-keras-datasets/t10k-images-idx3-ubyte.gz\n",
      "4423680/4422102 [==============================] - 1s 0us/step\n"
     ]
    }
   ],
   "source": [
    "(train_images,train_labels),(test_images,test_labels) = data.load_data()"
   ]
  },
  {
   "cell_type": "code",
   "execution_count": 10,
   "id": "7a7446f5-e4aa-4c29-bce7-b7bca83498e2",
   "metadata": {},
   "outputs": [
    {
     "data": {
      "image/png": "[encoded data removed]",
      "text/plain": [
       "<Figure size 432x288 with 1 Axes>"
      ]
     },
     "metadata": {
      "needs_background": "light"
     },
     "output_type": "display_data"
    }
   ],
   "source": [
    "plt.imshow(train_images[20])\n",
    "plt.show()"
   ]
  },
  {
   "cell_type": "markdown",
   "id": "8b2d444d-e43d-4bbd-8782-3479d0d89212",
   "metadata": {},
   "source": [
    "*Normalizing the Data*"
   ]
  },
  {
   "cell_type": "code",
   "execution_count": 11,
   "id": "6c57e875-0ae0-452c-9b59-c833cb75c45a",
   "metadata": {},
   "outputs": [],
   "source": [
    "train_images = train_images/255.0\n",
    "test_images = test_images/255.0"
   ]
  },
  {
   "cell_type": "markdown",
   "id": "78e915a0-0d86-4381-b5bb-33db22b34e9d",
   "metadata": {},
   "source": [
    "*Neuron Architecture*"
   ]
  },
  {
   "cell_type": "code",
   "execution_count": 17,
   "id": "a93b593c-b300-4b01-92bd-d16974093b03",
   "metadata": {},
   "outputs": [],
   "source": [
    "from tensorflow.keras.models import Sequential\n",
    "from tensorflow.keras.layers import Dense,Flatten"
   ]
  },
  {
   "cell_type": "markdown",
   "id": "de524f33-c410-4ef8-9dc7-a7dbacc2ff65",
   "metadata": {},
   "source": [
    "* Flatten - Turns a 2D array into 1D in this case, making 28*28 into 784.\n",
    "* Relu - Activation function that outputs values either 0 or greater than zero.\n",
    "* Softmax - Used in cases of multiclass classification since it outputs only the most likely probability\n",
    "* Metrics - Way to measure our progress"
   ]
  },
  {
   "cell_type": "code",
   "execution_count": 29,
   "id": "93c9c5df-b757-41cc-a138-8ad94a6a7348",
   "metadata": {},
   "outputs": [
    {
     "name": "stdout",
     "output_type": "stream",
     "text": [
      "Train on 60000 samples\n",
      "Epoch 1/10\n",
      "60000/60000 [==============================] - 4s 59us/sample - loss: 0.5013 - accuracy: 0.8235\n",
      "Epoch 2/10\n",
      "60000/60000 [==============================] - 3s 56us/sample - loss: 0.3754 - accuracy: 0.8647\n",
      "Epoch 3/10\n",
      "60000/60000 [==============================] - 3s 56us/sample - loss: 0.3367 - accuracy: 0.8764\n",
      "Epoch 4/10\n",
      "60000/60000 [==============================] - 3s 55us/sample - loss: 0.3132 - accuracy: 0.8843\n",
      "Epoch 5/10\n",
      "60000/60000 [==============================] - 3s 56us/sample - loss: 0.2937 - accuracy: 0.8916\n",
      "Epoch 6/10\n",
      "60000/60000 [==============================] - 3s 57us/sample - loss: 0.2822 - accuracy: 0.8963\n",
      "Epoch 7/10\n",
      "60000/60000 [==============================] - 3s 56us/sample - loss: 0.2691 - accuracy: 0.9002\n",
      "Epoch 8/10\n",
      "60000/60000 [==============================] - 3s 56us/sample - loss: 0.2588 - accuracy: 0.9031\n",
      "Epoch 9/10\n",
      "60000/60000 [==============================] - 3s 58us/sample - loss: 0.2488 - accuracy: 0.9074s - l\n",
      "Epoch 10/10\n",
      "60000/60000 [==============================] - 3s 57us/sample - loss: 0.2399 - accuracy: 0.9098\n"
     ]
    },
    {
     "data": {
      "text/plain": [
       "<tensorflow.python.keras.callbacks.History at 0x1c64d3f0240>"
      ]
     },
     "execution_count": 29,
     "metadata": {},
     "output_type": "execute_result"
    }
   ],
   "source": [
    "#collapse_output\n",
    "model = Sequential([\n",
    "        Flatten(input_shape=(28,28)),\n",
    "        Dense(128,activation='relu'),\n",
    "        Dense(10,activation='softmax')\n",
    "    ])\n",
    "\n",
    "model.compile(optimizer='adam',\n",
    "                 loss='sparse_categorical_crossentropy',\n",
    "                 metrics=['accuracy'])\n",
    "\n",
    "model.fit(train_images,train_labels,epochs=10)"
   ]
  },
  {
   "cell_type": "markdown",
   "id": "feab2ef4-df0f-4f53-ac82-de8dad33c42f",
   "metadata": {},
   "source": [
    "*Evaluating*"
   ]
  },
  {
   "cell_type": "code",
   "execution_count": 30,
   "id": "1d6422a0-3c69-46a0-b3e8-60a3b34bcc11",
   "metadata": {},
   "outputs": [
    {
     "name": "stdout",
     "output_type": "stream",
     "text": [
      "10000/10000 [==============================] - ETA: 0s - loss: 0.3362 - accuracy: 0.88 - 0s 39us/sample - loss: 0.3351 - accuracy: 0.8800\n"
     ]
    },
    {
     "data": {
      "text/plain": [
       "[0.3351069624185562, 0.88]"
      ]
     },
     "execution_count": 30,
     "metadata": {},
     "output_type": "execute_result"
    }
   ],
   "source": [
    "model.evaluate(test_images,test_labels)"
   ]
  },
  {
   "cell_type": "markdown",
   "id": "55de2b85-dfee-4c1c-9861-fce6511c499d",
   "metadata": {},
   "source": [
    "* Training set accuracy: [90.98%]\n",
    "* Test set accuracy : [88%]\n"
   ]
  },
  {
   "cell_type": "markdown",
   "id": "6a272885-58c5-4752-bbb3-410d1ad7e747",
   "metadata": {},
   "source": [
    "**Exploring the Model Output**"
   ]
  },
  {
   "cell_type": "code",
   "execution_count": 31,
   "id": "d9ff360b-0a19-4288-abb3-04e20a3d12eb",
   "metadata": {},
   "outputs": [
    {
     "name": "stdout",
     "output_type": "stream",
     "text": [
      "[1.4614162e-07 3.7705106e-09 2.0430624e-09 2.1551809e-09 9.3017638e-10\n",
      " 4.5569852e-04 4.8079949e-07 7.8137349e-03 3.7059172e-07 9.9172956e-01]\n",
      "9\n"
     ]
    }
   ],
   "source": [
    "classifications = model.predict(test_images)\n",
    "print(classifications[0])\n",
    "print(test_labels[0])"
   ]
  },
  {
   "cell_type": "markdown",
   "id": "e915102c-6548-4263-ae6c-e72e7ad821b3",
   "metadata": {},
   "source": [
    "You’ll notice that the classification gives us back an array of values. These are the val‐\n",
    "ues of the 10 output neurons. The label is the actual label for the item of clothing, in\n",
    "this case 9. Take a look through the array—you’ll see that some of the values are very\n",
    "small, and the last one (array index 9) is the largest by far. These are the probabilities\n",
    "that the image matches the label at that particular index. So, what the neural network\n",
    "is reporting is that there’s a 91.4% chance that the item of clothing at index 0 is label 9.\n",
    "We know that it’s label 9, so it got it right."
   ]
  },
  {
   "cell_type": "markdown",
   "id": "646d9265-cc32-4acb-9dca-be13359a2cc1",
   "metadata": {},
   "source": [
    "## Training for longer - Discovering Overfitting"
   ]
  },
  {
   "cell_type": "markdown",
   "id": "9970789f-1695-4e77-9ac1-4c30bd947125",
   "metadata": {},
   "source": [
    "Here we will increase the no. of epochs to 50 & see how it helps in the accuracies"
   ]
  },
  {
   "cell_type": "code",
   "execution_count": 34,
   "id": "27fba294-7712-4043-8b22-60cdab875971",
   "metadata": {},
   "outputs": [
    {
     "name": "stdout",
     "output_type": "stream",
     "text": [
      "Train on 60000 samples\n",
      "Epoch 1/100\n",
      "60000/60000 [==============================] - 3s 58us/sample - loss: 0.4981 - accuracy: 0.8234\n",
      "Epoch 2/100\n",
      "60000/60000 [==============================] - 3s 52us/sample - loss: 0.3710 - accuracy: 0.8665\n",
      "Epoch 3/100\n",
      "60000/60000 [==============================] - 3s 52us/sample - loss: 0.3333 - accuracy: 0.8783\n",
      "Epoch 4/100\n",
      "60000/60000 [==============================] - 3s 52us/sample - loss: 0.3132 - accuracy: 0.8850\n",
      "Epoch 5/100\n",
      "60000/60000 [==============================] - 3s 56us/sample - loss: 0.2953 - accuracy: 0.8904s - loss: 0.2958 - accuracy: \n",
      "Epoch 6/100\n",
      "60000/60000 [==============================] - 3s 54us/sample - loss: 0.2811 - accuracy: 0.8960\n",
      "Epoch 7/100\n",
      "60000/60000 [==============================] - 3s 54us/sample - loss: 0.2694 - accuracy: 0.9003\n",
      "Epoch 8/100\n",
      "60000/60000 [==============================] - 3s 56us/sample - loss: 0.2584 - accuracy: 0.9038\n",
      "Epoch 9/100\n",
      "60000/60000 [==============================] - 3s 54us/sample - loss: 0.2483 - accuracy: 0.9077\n",
      "Epoch 10/100\n",
      "60000/60000 [==============================] - 3s 54us/sample - loss: 0.2397 - accuracy: 0.9101\n",
      "Epoch 11/100\n",
      "60000/60000 [==============================] - 3s 55us/sample - loss: 0.2314 - accuracy: 0.9126\n",
      "Epoch 12/100\n",
      "60000/60000 [==============================] - 3s 52us/sample - loss: 0.2249 - accuracy: 0.9148\n",
      "Epoch 13/100\n",
      "60000/60000 [==============================] - 3s 54us/sample - loss: 0.2183 - accuracy: 0.9182s - loss: 0.2185 - accuracy: \n",
      "Epoch 14/100\n",
      "60000/60000 [==============================] - 3s 53us/sample - loss: 0.2123 - accuracy: 0.9201\n",
      "Epoch 15/100\n",
      "60000/60000 [==============================] - 3s 54us/sample - loss: 0.2048 - accuracy: 0.9227\n",
      "Epoch 16/100\n",
      "60000/60000 [==============================] - 3s 53us/sample - loss: 0.1996 - accuracy: 0.9239s - loss: 0.1996 - accuracy: \n",
      "Epoch 17/100\n",
      "60000/60000 [==============================] - 3s 55us/sample - loss: 0.1962 - accuracy: 0.9260\n",
      "Epoch 18/100\n",
      "60000/60000 [==============================] - 3s 52us/sample - loss: 0.1895 - accuracy: 0.9281\n",
      "Epoch 19/100\n",
      "60000/60000 [==============================] - 3s 52us/sample - loss: 0.1847 - accuracy: 0.9300\n",
      "Epoch 20/100\n",
      "60000/60000 [==============================] - 3s 53us/sample - loss: 0.1803 - accuracy: 0.9319\n",
      "Epoch 21/100\n",
      "60000/60000 [==============================] - 3s 52us/sample - loss: 0.1764 - accuracy: 0.9326\n",
      "Epoch 22/100\n",
      "60000/60000 [==============================] - ETA: 0s - loss: 0.1696 - accuracy: 0.93 - 3s 54us/sample - loss: 0.1700 - accuracy: 0.9365\n",
      "Epoch 23/100\n",
      "60000/60000 [==============================] - 3s 54us/sample - loss: 0.1651 - accuracy: 0.9377s - loss: 0.1649 - accuracy\n",
      "Epoch 24/100\n",
      "60000/60000 [==============================] - 3s 52us/sample - loss: 0.1631 - accuracy: 0.9387\n",
      "Epoch 25/100\n",
      "60000/60000 [==============================] - 3s 53us/sample - loss: 0.1571 - accuracy: 0.9399\n",
      "Epoch 26/100\n",
      "60000/60000 [==============================] - 3s 54us/sample - loss: 0.1543 - accuracy: 0.9422\n",
      "Epoch 27/100\n",
      "60000/60000 [==============================] - 4s 58us/sample - loss: 0.1538 - accuracy: 0.9419\n",
      "Epoch 28/100\n",
      "60000/60000 [==============================] - 4s 59us/sample - loss: 0.1482 - accuracy: 0.9444s - loss:\n",
      "Epoch 29/100\n",
      "60000/60000 [==============================] - 3s 57us/sample - loss: 0.1431 - accuracy: 0.9464\n",
      "Epoch 30/100\n",
      "60000/60000 [==============================] - 3s 57us/sample - loss: 0.1422 - accuracy: 0.9463\n",
      "Epoch 31/100\n",
      "60000/60000 [==============================] - 3s 56us/sample - loss: 0.1397 - accuracy: 0.9463\n",
      "Epoch 32/100\n",
      "60000/60000 [==============================] - 3s 56us/sample - loss: 0.1366 - accuracy: 0.9482\n",
      "Epoch 33/100\n",
      "60000/60000 [==============================] - 3s 55us/sample - loss: 0.1349 - accuracy: 0.9489\n",
      "Epoch 34/100\n",
      "60000/60000 [==============================] - 3s 56us/sample - loss: 0.1306 - accuracy: 0.9491s - loss: 0.1 - ETA: 0s - loss: 0.1319 \n",
      "Epoch 35/100\n",
      "60000/60000 [==============================] - 3s 57us/sample - loss: 0.1274 - accuracy: 0.9517\n",
      "Epoch 36/100\n",
      "60000/60000 [==============================] - 3s 57us/sample - loss: 0.1259 - accuracy: 0.9520\n",
      "Epoch 37/100\n",
      "60000/60000 [==============================] - 3s 57us/sample - loss: 0.1237 - accuracy: 0.9541\n",
      "Epoch 38/100\n",
      "60000/60000 [==============================] - 3s 58us/sample - loss: 0.1216 - accuracy: 0.9534\n",
      "Epoch 39/100\n",
      "60000/60000 [==============================] - 3s 57us/sample - loss: 0.1184 - accuracy: 0.9549\n",
      "Epoch 40/100\n",
      "60000/60000 [==============================] - 3s 56us/sample - loss: 0.1175 - accuracy: 0.9558\n",
      "Epoch 41/100\n",
      "60000/60000 [==============================] - 3s 57us/sample - loss: 0.1153 - accuracy: 0.9569\n",
      "Epoch 42/100\n",
      "60000/60000 [==============================] - 4s 58us/sample - loss: 0.1119 - accuracy: 0.9582\n",
      "Epoch 43/100\n",
      "60000/60000 [==============================] - 3s 57us/sample - loss: 0.1093 - accuracy: 0.9586\n",
      "Epoch 44/100\n",
      "60000/60000 [==============================] - 3s 58us/sample - loss: 0.1102 - accuracy: 0.9586s - loss: 0\n",
      "Epoch 45/100\n",
      "60000/60000 [==============================] - 3s 58us/sample - loss: 0.1048 - accuracy: 0.9606\n",
      "Epoch 46/100\n",
      "60000/60000 [==============================] - 3s 58us/sample - loss: 0.1049 - accuracy: 0.9604\n",
      "Epoch 47/100\n",
      "60000/60000 [==============================] - 3s 58us/sample - loss: 0.1028 - accuracy: 0.9603\n",
      "Epoch 48/100\n",
      "60000/60000 [==============================] - 3s 58us/sample - loss: 0.1038 - accuracy: 0.9605\n",
      "Epoch 49/100\n",
      "60000/60000 [==============================] - 3s 57us/sample - loss: 0.0984 - accuracy: 0.9633\n",
      "Epoch 50/100\n",
      "60000/60000 [==============================] - 3s 58us/sample - loss: 0.0980 - accuracy: 0.9627\n",
      "Epoch 51/100\n",
      "60000/60000 [==============================] - 3s 58us/sample - loss: 0.0947 - accuracy: 0.9642\n",
      "Epoch 52/100\n",
      "60000/60000 [==============================] - 3s 58us/sample - loss: 0.0943 - accuracy: 0.9638\n",
      "Epoch 53/100\n",
      "60000/60000 [==============================] - 4s 58us/sample - loss: 0.0904 - accuracy: 0.9656\n",
      "Epoch 54/100\n",
      "60000/60000 [==============================] - 3s 58us/sample - loss: 0.0908 - accuracy: 0.9663\n",
      "Epoch 55/100\n",
      "60000/60000 [==============================] - 3s 57us/sample - loss: 0.0891 - accuracy: 0.9663\n",
      "Epoch 56/100\n",
      "60000/60000 [==============================] - 3s 58us/sample - loss: 0.0886 - accuracy: 0.9665\n",
      "Epoch 57/100\n",
      "60000/60000 [==============================] - 3s 58us/sample - loss: 0.0876 - accuracy: 0.9674\n",
      "Epoch 58/100\n",
      "60000/60000 [==============================] - 4s 60us/sample - loss: 0.0859 - accuracy: 0.9676\n",
      "Epoch 59/100\n",
      "60000/60000 [==============================] - 4s 60us/sample - loss: 0.0849 - accuracy: 0.9682\n",
      "Epoch 60/100\n",
      "60000/60000 [==============================] - 3s 58us/sample - loss: 0.0834 - accuracy: 0.9686\n",
      "Epoch 61/100\n",
      "60000/60000 [==============================] - 4s 60us/sample - loss: 0.0815 - accuracy: 0.9690\n",
      "Epoch 62/100\n",
      "60000/60000 [==============================] - 3s 51us/sample - loss: 0.0813 - accuracy: 0.9699\n",
      "Epoch 63/100\n",
      "60000/60000 [==============================] - 3s 50us/sample - loss: 0.0799 - accuracy: 0.9699\n",
      "Epoch 64/100\n",
      "60000/60000 [==============================] - 3s 52us/sample - loss: 0.0813 - accuracy: 0.9690\n",
      "Epoch 65/100\n",
      "60000/60000 [==============================] - 3s 51us/sample - loss: 0.0778 - accuracy: 0.9711s - loss: 0.0779 - ac - ETA: 0s - loss: 0.0777 - accuracy: \n",
      "Epoch 66/100\n",
      "60000/60000 [==============================] - 3s 50us/sample - loss: 0.0738 - accuracy: 0.9724\n",
      "Epoch 67/100\n",
      "60000/60000 [==============================] - 3s 50us/sample - loss: 0.0772 - accuracy: 0.9708\n",
      "Epoch 68/100\n",
      "60000/60000 [==============================] - 3s 51us/sample - loss: 0.0739 - accuracy: 0.9724\n",
      "Epoch 69/100\n",
      "60000/60000 [==============================] - 3s 50us/sample - loss: 0.0738 - accuracy: 0.9723\n",
      "Epoch 70/100\n",
      "60000/60000 [==============================] - 3s 51us/sample - loss: 0.0735 - accuracy: 0.9728\n",
      "Epoch 71/100\n",
      "60000/60000 [==============================] - 3s 52us/sample - loss: 0.0696 - accuracy: 0.9735\n",
      "Epoch 72/100\n",
      "60000/60000 [==============================] - 3s 51us/sample - loss: 0.0703 - accuracy: 0.9730s - loss: 0.0699 - accuracy: \n",
      "Epoch 73/100\n",
      "60000/60000 [==============================] - 3s 52us/sample - loss: 0.0691 - accuracy: 0.9732\n",
      "Epoch 74/100\n",
      "60000/60000 [==============================] - 3s 50us/sample - loss: 0.0677 - accuracy: 0.9750\n",
      "Epoch 75/100\n",
      "60000/60000 [==============================] - 3s 51us/sample - loss: 0.0701 - accuracy: 0.9740\n",
      "Epoch 76/100\n",
      "60000/60000 [==============================] - 3s 50us/sample - loss: 0.0681 - accuracy: 0.9747\n",
      "Epoch 77/100\n",
      "60000/60000 [==============================] - 3s 50us/sample - loss: 0.0660 - accuracy: 0.9750\n",
      "Epoch 78/100\n",
      "60000/60000 [==============================] - 3s 51us/sample - loss: 0.0652 - accuracy: 0.9759\n",
      "Epoch 79/100\n",
      "60000/60000 [==============================] - 3s 51us/sample - loss: 0.0636 - accuracy: 0.9762s - loss: 0.0632 - accuracy: 0.97\n",
      "Epoch 80/100\n",
      "60000/60000 [==============================] - 3s 51us/sample - loss: 0.0667 - accuracy: 0.9747\n",
      "Epoch 81/100\n",
      "60000/60000 [==============================] - 3s 52us/sample - loss: 0.0622 - accuracy: 0.9773s - loss: 0.0623 - accuracy: 0.\n",
      "Epoch 82/100\n",
      "60000/60000 [==============================] - 3s 53us/sample - loss: 0.0635 - accuracy: 0.9765\n",
      "Epoch 83/100\n",
      "60000/60000 [==============================] - 3s 54us/sample - loss: 0.0601 - accuracy: 0.9778s - loss: 0.0600 - accuracy: 0.97\n",
      "Epoch 84/100\n",
      "60000/60000 [==============================] - 3s 55us/sample - loss: 0.0607 - accuracy: 0.9772\n",
      "Epoch 85/100\n",
      "60000/60000 [==============================] - 3s 51us/sample - loss: 0.0610 - accuracy: 0.9774\n",
      "Epoch 86/100\n",
      "60000/60000 [==============================] - 3s 50us/sample - loss: 0.0587 - accuracy: 0.9777\n",
      "Epoch 87/100\n",
      "60000/60000 [==============================] - 3s 52us/sample - loss: 0.0609 - accuracy: 0.9775\n",
      "Epoch 88/100\n",
      "60000/60000 [==============================] - 3s 49us/sample - loss: 0.0575 - accuracy: 0.9789\n",
      "Epoch 89/100\n",
      "60000/60000 [==============================] - 3s 54us/sample - loss: 0.0557 - accuracy: 0.9789\n",
      "Epoch 90/100\n",
      "60000/60000 [==============================] - 3s 57us/sample - loss: 0.0581 - accuracy: 0.9776\n",
      "Epoch 91/100\n",
      "60000/60000 [==============================] - 3s 54us/sample - loss: 0.0551 - accuracy: 0.9790\n",
      "Epoch 92/100\n",
      "60000/60000 [==============================] - 3s 52us/sample - loss: 0.0558 - accuracy: 0.9783\n",
      "Epoch 93/100\n",
      "60000/60000 [==============================] - 3s 52us/sample - loss: 0.0534 - accuracy: 0.9798\n",
      "Epoch 94/100\n",
      "60000/60000 [==============================] - 3s 53us/sample - loss: 0.0538 - accuracy: 0.9800\n",
      "Epoch 95/100\n",
      "60000/60000 [==============================] - 3s 53us/sample - loss: 0.0531 - accuracy: 0.9803\n",
      "Epoch 96/100\n",
      "60000/60000 [==============================] - 3s 51us/sample - loss: 0.0538 - accuracy: 0.9800\n",
      "Epoch 97/100\n",
      "60000/60000 [==============================] - 3s 52us/sample - loss: 0.0523 - accuracy: 0.9804\n",
      "Epoch 98/100\n",
      "60000/60000 [==============================] - 3s 50us/sample - loss: 0.0519 - accuracy: 0.9812\n",
      "Epoch 99/100\n",
      "60000/60000 [==============================] - 3s 50us/sample - loss: 0.0518 - accuracy: 0.9809\n",
      "Epoch 100/100\n",
      "60000/60000 [==============================] - 3s 54us/sample - loss: 0.0518 - accuracy: 0.9803\n"
     ]
    },
    {
     "data": {
      "text/plain": [
       "<tensorflow.python.keras.callbacks.History at 0x1c64bb7b320>"
      ]
     },
     "execution_count": 34,
     "metadata": {},
     "output_type": "execute_result"
    }
   ],
   "source": [
    "#collapse_output\n",
    "model = Sequential([\n",
    "        Flatten(input_shape=(28,28)),\n",
    "        Dense(128,activation='relu'),\n",
    "        Dense(10,activation='softmax')\n",
    "    ])\n",
    "\n",
    "model.compile(optimizer='adam',\n",
    "                 loss='sparse_categorical_crossentropy',\n",
    "                 metrics=['accuracy'])\n",
    "\n",
    "model.fit(train_images,train_labels,epochs=100)"
   ]
  },
  {
   "cell_type": "code",
   "execution_count": 33,
   "id": "460a9f87-de83-47f2-b6fd-2300366f8ca9",
   "metadata": {},
   "outputs": [
    {
     "name": "stdout",
     "output_type": "stream",
     "text": [
      "10000/10000 [==============================] - 0s 39us/sample - loss: 0.4944 - accuracy: 0.8847\n"
     ]
    },
    {
     "data": {
      "text/plain": [
       "[0.4943554855763912, 0.8847]"
      ]
     },
     "execution_count": 33,
     "metadata": {},
     "output_type": "execute_result"
    }
   ],
   "source": [
    "model.evaluate(test_images,test_labels)"
   ]
  },
  {
   "cell_type": "markdown",
   "id": "85469d34-a496-4254-a078-1e70aa62e9ac",
   "metadata": {},
   "source": [
    "* Training set accuracy: [98.03%]\n",
    "* Test set accuracy : [88.47%]"
   ]
  },
  {
   "cell_type": "markdown",
   "id": "3368e1a7-5f9b-40b1-8d15-ce925f5ba6d3",
   "metadata": {},
   "source": [
    "## Stopping Training"
   ]
  },
  {
   "cell_type": "markdown",
   "id": "b6f737b3-62d1-4b01-ba7e-f7f19267ee5f",
   "metadata": {},
   "source": [
    "In each of the cases so far, we’ve hardcoded the number of epochs we’re training for.\n",
    "While that works, we might want to train until we reach the desired accuracy instead\n",
    "of constantly trying different numbers of epochs and training and retraining until we\n",
    "get to our desired value. So, for example, if we want to train until the model is at 95%\n",
    "accuracy on the training set, without knowing how many epochs that will take, how\n",
    "could we do that?\n",
    "The easiest approach is to use a callback on the training. Let’s take a look at the upda‐\n",
    "ted code that uses callbacks:\n"
   ]
  },
  {
   "cell_type": "code",
   "execution_count": 36,
   "id": "805b8eaa-d44a-4720-84c2-cbcb318fbded",
   "metadata": {},
   "outputs": [
    {
     "name": "stdout",
     "output_type": "stream",
     "text": [
      "Train on 60000 samples\n",
      "Epoch 1/50\n",
      "60000/60000 [==============================] - 11s 180us/sample - loss: 0.5009 - accuracy: 0.8245\n",
      "Epoch 2/50\n",
      "60000/60000 [==============================] - 3s 50us/sample - loss: 0.3758 - accuracy: 0.8641\n",
      "Epoch 3/50\n",
      "60000/60000 [==============================] - 3s 49us/sample - loss: 0.3380 - accuracy: 0.8771\n",
      "Epoch 4/50\n",
      "60000/60000 [==============================] - 3s 49us/sample - loss: 0.3151 - accuracy: 0.8839\n",
      "Epoch 5/50\n",
      "60000/60000 [==============================] - 3s 49us/sample - loss: 0.2955 - accuracy: 0.8916\n",
      "Epoch 6/50\n",
      "60000/60000 [==============================] - 3s 50us/sample - loss: 0.2812 - accuracy: 0.8954\n",
      "Epoch 7/50\n",
      "60000/60000 [==============================] - 3s 49us/sample - loss: 0.2667 - accuracy: 0.9013\n",
      "Epoch 8/50\n",
      "60000/60000 [==============================] - 3s 49us/sample - loss: 0.2558 - accuracy: 0.9039s - loss: 0.2 - ETA: 2s - loss: 0.2500  - ETA: 1s - loss: 0.2535 -  - ETA: 0s - loss: 0.2538 - accu\n",
      "Epoch 9/50\n",
      "60000/60000 [==============================] - 3s 48us/sample - loss: 0.2464 - accuracy: 0.9084\n",
      "Epoch 10/50\n",
      "60000/60000 [==============================] - 3s 48us/sample - loss: 0.2387 - accuracy: 0.9103\n",
      "Epoch 11/50\n",
      "60000/60000 [==============================] - 3s 49us/sample - loss: 0.2289 - accuracy: 0.9139\n",
      "Epoch 12/50\n",
      "60000/60000 [==============================] - 3s 49us/sample - loss: 0.2216 - accuracy: 0.9180\n",
      "Epoch 13/50\n",
      "60000/60000 [==============================] - 3s 50us/sample - loss: 0.2152 - accuracy: 0.9197s - l\n",
      "Epoch 14/50\n",
      "60000/60000 [==============================] - 3s 50us/sample - loss: 0.2074 - accuracy: 0.9223\n",
      "Epoch 15/50\n",
      "60000/60000 [==============================] - 3s 49us/sample - loss: 0.2021 - accuracy: 0.9236\n",
      "Epoch 16/50\n",
      "60000/60000 [==============================] - 3s 49us/sample - loss: 0.1950 - accuracy: 0.9273s - - ETA: 0s - loss:\n",
      "Epoch 17/50\n",
      "60000/60000 [==============================] - 3s 46us/sample - loss: 0.1896 - accuracy: 0.9289s - loss: 0.1897 - accuracy: 0.92\n",
      "Epoch 18/50\n",
      "60000/60000 [==============================] - 3s 49us/sample - loss: 0.1860 - accuracy: 0.9296s - loss: 0.1825 - accu - ETA\n",
      "Epoch 19/50\n",
      "60000/60000 [==============================] - 3s 49us/sample - loss: 0.1790 - accuracy: 0.9323\n",
      "Epoch 20/50\n",
      "60000/60000 [==============================] - 3s 50us/sample - loss: 0.1763 - accuracy: 0.9337s - loss: 0.1 - ETA: 0s - loss: 0.1772 - accura\n",
      "Epoch 21/50\n",
      "60000/60000 [==============================] - 3s 49us/sample - loss: 0.1711 - accuracy: 0.9357\n",
      "Epoch 22/50\n",
      "60000/60000 [==============================] - 3s 49us/sample - loss: 0.1675 - accuracy: 0.9376\n",
      "Epoch 23/50\n",
      "60000/60000 [==============================] - 3s 49us/sample - loss: 0.1618 - accuracy: 0.9386\n",
      "Epoch 24/50\n",
      "60000/60000 [==============================] - 3s 50us/sample - loss: 0.1606 - accuracy: 0.9393\n",
      "Epoch 25/50\n",
      "60000/60000 [==============================] - 3s 49us/sample - loss: 0.1554 - accuracy: 0.9406\n",
      "Epoch 26/50\n",
      "60000/60000 [==============================] - 3s 47us/sample - loss: 0.1530 - accuracy: 0.9430\n",
      "Epoch 27/50\n",
      "60000/60000 [==============================] - 3s 49us/sample - loss: 0.1499 - accuracy: 0.9439A: \n",
      "Epoch 28/50\n",
      "60000/60000 [==============================] - 3s 49us/sample - loss: 0.1440 - accuracy: 0.9467s - loss: 0 - ETA: 0s\n",
      "Epoch 29/50\n",
      "60000/60000 [==============================] - 3s 49us/sample - loss: 0.1418 - accuracy: 0.9468s - loss: 0.1417 - accuracy: 0.94\n",
      "Epoch 30/50\n",
      "60000/60000 [==============================] - 3s 49us/sample - loss: 0.1414 - accuracy: 0.9466s - loss:\n",
      "Epoch 31/50\n",
      "60000/60000 [==============================] - 3s 49us/sample - loss: 0.1358 - accuracy: 0.9487\n",
      "Epoch 32/50\n",
      "60000/60000 [==============================] - 3s 48us/sample - loss: 0.1328 - accuracy: 0.9499\n",
      "Epoch 33/50\n",
      "59520/60000 [============================>.] - ETA: 0s - loss: 0.1291 - accuracy: 0.9511 ETA: 2s - loss: 0.117\n",
      "Reached 95% accuracy, stopping...\n",
      "60000/60000 [==============================] - 3s 50us/sample - loss: 0.1291 - accuracy: 0.9510\n"
     ]
    },
    {
     "data": {
      "text/plain": [
       "<tensorflow.python.keras.callbacks.History at 0x1c6689792e8>"
      ]
     },
     "execution_count": 36,
     "metadata": {},
     "output_type": "execute_result"
    }
   ],
   "source": [
    "#collapse_output\n",
    "class myCallback(tf.keras.callbacks.Callback):\n",
    "    def on_epoch_end(self,epoch,logs={}):\n",
    "        if(logs.get('accuracy')>0.95):\n",
    "            print(\"\\nReached 95% accuracy, stopping...\")\n",
    "            self.model.stop_training=True\n",
    "callbacks = myCallback()\n",
    "\n",
    "model = Sequential([\n",
    "        Flatten(input_shape=(28,28)),\n",
    "        Dense(128,activation='relu'),\n",
    "        Dense(10,activation='softmax')\n",
    "    ])\n",
    "\n",
    "model.compile(optimizer='adam',\n",
    "                 loss='sparse_categorical_crossentropy',\n",
    "                 metrics=['accuracy'])\n",
    "\n",
    "model.fit(train_images,train_labels,callbacks=[callbacks],epochs=50)"
   ]
  },
  {
   "cell_type": "code",
   "execution_count": 37,
   "id": "de89c4c7-dd55-4d6b-bfc1-68169a2d01b6",
   "metadata": {},
   "outputs": [
    {
     "name": "stdout",
     "output_type": "stream",
     "text": [
      "10000/10000 [==============================] - 0s 43us/sample - loss: 0.4173 - accuracy: 0.8918\n"
     ]
    },
    {
     "data": {
      "text/plain": [
       "[0.41726961513757704, 0.8918]"
      ]
     },
     "execution_count": 37,
     "metadata": {},
     "output_type": "execute_result"
    }
   ],
   "source": [
    "model.evaluate(test_images,test_labels)"
   ]
  },
  {
   "cell_type": "markdown",
   "id": "b234f0d1-8a99-49ca-9259-692c2cc96d3b",
   "metadata": {},
   "source": [
    "*See how early stopping gave better results on test data.*"
   ]
  }
 ],
 "metadata": {
  "kernelspec": {
   "display_name": "Python 3",
   "language": "python",
   "name": "python3"
  },
  "language_info": {
   "codemirror_mode": {
    "name": "ipython",
    "version": 3
   },
   "file_extension": ".py",
   "mimetype": "text/x-python",
   "name": "python",
   "nbconvert_exporter": "python",
   "pygments_lexer": "ipython3",
   "version": "3.6.13"
  }
 },
 "nbformat": 4,
 "nbformat_minor": 5
}
